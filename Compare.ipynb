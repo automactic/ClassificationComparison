{
 "cells": [
  {
   "cell_type": "code",
   "execution_count": 1,
   "metadata": {
    "collapsed": true
   },
   "outputs": [],
   "source": [
    "%matplotlib inline\n",
    "import matplotlib.pyplot as plt\n",
    "from matplotlib.colors import ListedColormap\n",
    "\n",
    "import numpy as np\n",
    "\n",
    "from sklearn.datasets import make_moons, make_circles, make_classification # simulate\n",
    "from sklearn.cross_validation import train_test_split\n",
    "\n",
    "# Classifiers\n",
    "from sklearn.neighbors import KNeighborsClassifier\n",
    "from sklearn.svm import SVC"
   ]
  },
  {
   "cell_type": "code",
   "execution_count": 2,
   "metadata": {
    "collapsed": false
   },
   "outputs": [],
   "source": [
    "def plot_data(ax, X_train, y_train, X_test, y_test):\n",
    "    color_map = ListedColormap(['#FF0000', '#0000FF'])\n",
    "    ax.scatter(X_train[:,0], X_train[:,1], c=y_train, cmap=color_map, linewidths=0.6)\n",
    "    ax.scatter(X_test[:,0], X_test[:,1], c=y_test, cmap=color_map, linewidths=0.6, alpha=0.6)"
   ]
  },
  {
   "cell_type": "code",
   "execution_count": 3,
   "metadata": {
    "collapsed": true
   },
   "outputs": [],
   "source": [
    "def splitData(X, y):\n",
    "    return train_test_split(X, y, test_size=0.4)"
   ]
  },
  {
   "cell_type": "code",
   "execution_count": 4,
   "metadata": {
    "collapsed": true
   },
   "outputs": [],
   "source": [
    "def mesh_data_set(X):\n",
    "    h = 0.2\n",
    "    x0_min, x0_max = X[:, 0].min() - .5, X[:, 0].max() + .5\n",
    "    x1_min, x1_max = X[:, 1].min() - .5, X[:, 1].max() + .5\n",
    "    x0x0, x1x1 = np.meshgrid(np.arange(x0_min, x0_max, h), np.arange(x1_min, x1_max, h))\n",
    "    return x0x0, x1x1"
   ]
  },
  {
   "cell_type": "markdown",
   "metadata": {},
   "source": [
    "Generate data"
   ]
  },
  {
   "cell_type": "code",
   "execution_count": 5,
   "metadata": {
    "collapsed": false
   },
   "outputs": [],
   "source": [
    "X, y = make_classification(n_features=2, n_informative=2, n_redundant=0, n_repeated=0,\n",
    "                           n_clusters_per_class=1, random_state=1)\n",
    "X_train, X_test, y_train, y_test = splitData(X, y)"
   ]
  },
  {
   "cell_type": "markdown",
   "metadata": {},
   "source": [
    "KNN"
   ]
  },
  {
   "cell_type": "code",
   "execution_count": 6,
   "metadata": {
    "collapsed": true
   },
   "outputs": [],
   "source": [
    "def plot(ax):\n",
    "    # train & test\n",
    "    knn = KNeighborsClassifier(3)\n",
    "    knn.fit(X_train, y_train)\n",
    "    score = knn.score(X_test, y_test)\n",
    "    \n",
    "    # plot decision boundary\n",
    "    x0x0, x1x1 = mesh_data_set(X)\n",
    "    x0x1_pairs = np.c_[x0x0.ravel(), x1x1.ravel()]\n",
    "    prob = knn.predict_proba(x0x1_pairs)[:, 1]\n",
    "    prob = prob.reshape(x0x0.shape)\n",
    "    color_map = plt.cm.RdYlBu\n",
    "    ax.contourf(x0x0, x1x1, prob, cmap=color_map, alpha=0.8)\n",
    "    \n",
    "    # plot points\n",
    "    plot_data(ax, X_train, y_train, X_test, y_test)\n",
    "    \n",
    "    ax.set_xticks(())\n",
    "    ax.set_yticks(())"
   ]
  },
  {
   "cell_type": "code",
   "execution_count": 7,
   "metadata": {
    "collapsed": false
   },
   "outputs": [
    {
     "data": {
      "image/png": "[encoded data removed]",
      "text/plain": [
       "<matplotlib.figure.Figure at 0x10e82df28>"
      ]
     },
     "metadata": {},
     "output_type": "display_data"
    }
   ],
   "source": [
    "plt.figure(figsize=(20, 6))\n",
    "ax = plt.subplot(1, 3, 1)\n",
    "plot(ax)"
   ]
  }
 ],
 "metadata": {
  "kernelspec": {
   "display_name": "Python 3",
   "language": "python",
   "name": "python3"
  },
  "language_info": {
   "codemirror_mode": {
    "name": "ipython",
    "version": 3
   },
   "file_extension": ".py",
   "mimetype": "text/x-python",
   "name": "python",
   "nbconvert_exporter": "python",
   "pygments_lexer": "ipython3",
   "version": "3.5.1"
  }
 },
 "nbformat": 4,
 "nbformat_minor": 0
}
